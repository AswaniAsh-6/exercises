{
 "cells": [
  {
   "cell_type": "code",
   "execution_count": 2,
   "id": "d31a9cfc",
   "metadata": {},
   "outputs": [
    {
     "name": "stdout",
     "output_type": "stream",
     "text": [
      "Enter a character: 6\n",
      "it is not an Alphabet\n"
     ]
    }
   ],
   "source": [
    "#Python program to check whether the input character is an alphabet\n",
    "ch = input(\"Enter a character: \")\n",
    "if((ch>='a' and ch<= 'z') or (ch>='A' and ch<='Z')):\n",
    "    print(\" It is an Alphabet\")\n",
    "else:\n",
    "    print(\"it is not an Alphabet\")"
   ]
  },
  {
   "cell_type": "code",
   "execution_count": 4,
   "id": "f83bfc7d",
   "metadata": {},
   "outputs": [
    {
     "name": "stdout",
     "output_type": "stream",
     "text": [
      "[6, 16, 18]\n",
      "[22, 11, 7]\n",
      "[9, 11, 6]\n"
     ]
    }
   ],
   "source": [
    "#Python program to add two matrices\n",
    "X = [[2,9,7],\n",
    "    [14,8,4],\n",
    "    [2,6,1]]\n",
    "Y = [[4,7,11],\n",
    "    [8,3,3],\n",
    "    [7,5,5]]\n",
    "result = [[0,0,0],\n",
    "         [0,0,0],\n",
    "         [0,0,0]]\n",
    "for i in range(len(X)):\n",
    "   for j in range(len(X[0])):\n",
    "       result[i][j] = X[i][j] + Y[i][j]\n",
    "for r in result:\n",
    "   print(r)"
   ]
  },
  {
   "cell_type": "code",
   "execution_count": 3,
   "id": "21a1e3d1",
   "metadata": {},
   "outputs": [
    {
     "name": "stdout",
     "output_type": "stream",
     "text": [
      "Enter your choice:5\n",
      "Wrong input..!!\n"
     ]
    }
   ],
   "source": [
    "#Python program to print simple calculator\n",
    "choice = int(input(\"Enter your choice:\"))\n",
    "if (choice>=1 and choice<=4):\n",
    "    print(\"Enter two numbers: \")\n",
    "    num1 = int(input())\n",
    "    num2 = int(input())\n",
    "if choice == 1:\n",
    "    res = num1 + num2\n",
    "    print(\"Result = \", res)\n",
    "elif choice == 2:\n",
    "    res = num1 - num2\n",
    "    print(\"Result = \", res)\n",
    "elif choice == 3:\n",
    "    res = num1 * num2\n",
    "    print(\"Result = \", res)\n",
    "elif choice == 4:\n",
    "    res = num1 / num2\n",
    "    print(\"Result = \", res)\n",
    "else:\n",
    "  print(\"Wrong input..!!\")"
   ]
  },
  {
   "cell_type": "code",
   "execution_count": 4,
   "id": "661c2857",
   "metadata": {},
   "outputs": [
    {
     "name": "stdout",
     "output_type": "stream",
     "text": [
      "The list is empty\n"
     ]
    }
   ],
   "source": [
    "#Python program to check the list empty or not.\n",
    "my_list = []\n",
    "if my_list == []:\n",
    "    print(\"The list is empty\")"
   ]
  },
  {
   "cell_type": "code",
   "execution_count": 5,
   "id": "44ed75d9",
   "metadata": {},
   "outputs": [
    {
     "name": "stdout",
     "output_type": "stream",
     "text": [
      "[1, 2, 3, 4, 5, 6]\n",
      "Reversed List: [6, 5, 4, 3, 2, 1]\n"
     ]
    }
   ],
   "source": [
    "#Perform reverse in list ltems\n",
    "list = [1,2,3,4,5,6]\n",
    "print(list)\n",
    "list.reverse()\n",
    "print('Reversed List:', list)"
   ]
  },
  {
   "cell_type": "code",
   "execution_count": 6,
   "id": "8eb2f6ea",
   "metadata": {},
   "outputs": [
    {
     "name": "stdout",
     "output_type": "stream",
     "text": [
      "Number of terms:4\n",
      "Fibonacci sequence:\n",
      "0\n",
      "1\n",
      "1\n",
      "2\n"
     ]
    }
   ],
   "source": [
    "\n",
    "n = int(input(\"Number of terms:\"))\n",
    "n1, n2 = 0, 1\n",
    "count = 0\n",
    "if n <= 0:\n",
    "   print(\"Please enter a positive integer\")\n",
    "elif n == 1:\n",
    "   print(\"Fibonacci sequence upto\",n,\":\")\n",
    "   print(n1)\n",
    "else:\n",
    "   print(\"Fibonacci sequence:\")\n",
    "   while count < n:\n",
    "       print(n1)\n",
    "       l = n1 + n2\n",
    "       n1 = n2\n",
    "       n2 = l\n",
    "       count += 1"
   ]
  },
  {
   "cell_type": "code",
   "execution_count": 7,
   "id": "7e88a75b",
   "metadata": {},
   "outputs": [
    {
     "name": "stdout",
     "output_type": "stream",
     "text": [
      "Please enter String : aswani\n",
      "Please enter Character : a\n",
      "The total Number of Times =  2\n"
     ]
    }
   ],
   "source": [
    "#Python program to count occurrence of a character in a string\n",
    "string = input(\"Please enter String : \")\n",
    "char = input(\"Please enter Character : \")\n",
    "i = 0\n",
    "count = 0\n",
    "while(i < len(string)):\n",
    "    if(string[i] == char):\n",
    "        count = count + 1\n",
    "    i = i + 1\n",
    "print(\"The total Number of Times = \", count)"
   ]
  },
  {
   "cell_type": "code",
   "execution_count": 8,
   "id": "ad25519b",
   "metadata": {},
   "outputs": [
    {
     "name": "stdout",
     "output_type": "stream",
     "text": [
      "  ***  \n",
      " *   * \n",
      " *     \n",
      " * *** \n",
      " *   * \n",
      " *   * \n",
      "  ***  \n",
      "\n"
     ]
    }
   ],
   "source": [
    "#Python program to print the pattern 'g'\n",
    "result_str=\"\";    \n",
    "for row in range(0,7):    \n",
    "    for column in range(0,7):     \n",
    "        if ((column == 1 and row != 0 and row != 6) or ((row == 0 or row == 6) and column > 1 and column < 5) or (row == 3 and column > 2 and column < 6) or (column == 5 and row != 0 and row != 2 and row != 6)):  \n",
    "            result_str=result_str+\"*\"    \n",
    "        else:      \n",
    "            result_str=result_str+\" \"    \n",
    "    result_str=result_str+\"\\n\"    \n",
    "print(result_str);"
   ]
  },
  {
   "cell_type": "code",
   "execution_count": 36,
   "id": "08434e4f",
   "metadata": {},
   "outputs": [
    {
     "name": "stdout",
     "output_type": "stream",
     "text": [
      "Negative Numbers:\n",
      "-21 -93 \n",
      "Positive Numbers:\n",
      "11 45 66 "
     ]
    }
   ],
   "source": [
    "#\n",
    "list1 = [11, -21, 0, 45, 66, -93]\n",
    "print(\"Negative Numbers:\")\n",
    "for i in list1:\n",
    "    if i < 0:\n",
    "        print(i, end = \" \" )\n",
    "print(\"\\nPositive Numbers:\")\n",
    "for j in list1: \n",
    "    if j > 0:\n",
    "        print(j, end = \" \")"
   ]
  },
  {
   "cell_type": "code",
   "execution_count": null,
   "id": "df428035",
   "metadata": {},
   "outputs": [],
   "source": []
  }
 ],
 "metadata": {
  "kernelspec": {
   "display_name": "Python 3",
   "language": "python",
   "name": "python3"
  },
  "language_info": {
   "codemirror_mode": {
    "name": "ipython",
    "version": 3
   },
   "file_extension": ".py",
   "mimetype": "text/x-python",
   "name": "python",
   "nbconvert_exporter": "python",
   "pygments_lexer": "ipython3",
   "version": "3.8.8"
  }
 },
 "nbformat": 4,
 "nbformat_minor": 5
}
